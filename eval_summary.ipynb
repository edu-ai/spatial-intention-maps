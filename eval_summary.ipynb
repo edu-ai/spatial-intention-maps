{
 "cells": [
  {
   "cell_type": "code",
   "execution_count": 118,
   "metadata": {},
   "outputs": [],
   "source": [
    "import ipywidgets as widgets\n",
    "\n",
    "# Avoid non-compliant Type 3 fonts\n",
    "import matplotlib\n",
    "matplotlib.rcParams['pdf.fonttype'] = 42  # pylint: disable=wrong-import-position\n",
    "\n",
    "import matplotlib.pyplot as plt\n",
    "import numpy as np\n",
    "import pandas as pd\n",
    "from ipywidgets import interact\n",
    "from IPython.display import display\n",
    "from tqdm.notebook import tqdm\n",
    "\n",
    "import utils"
   ]
  },
  {
   "cell_type": "code",
   "execution_count": 119,
   "metadata": {},
   "outputs": [],
   "source": [
    "csv_val = pd.read_csv('FYP_config.csv')"
   ]
  },
  {
   "cell_type": "code",
   "execution_count": 120,
   "metadata": {},
   "outputs": [],
   "source": [
    "label_dict = {}\n",
    "label_to_value = {}\n",
    "for index, row in csv_val.iterrows():\n",
    "    label_dict[row['Trained_model']] =  row['Label']\n",
    "    label_to_value[row['Label']] = row['Trained_model']"
   ]
  },
  {
   "cell_type": "code",
   "execution_count": 121,
   "metadata": {},
   "outputs": [
    {
     "name": "stdout",
     "output_type": "stream",
     "text": [
      "{'20220215T231623912054-pushing_4-small_divider-ours-original': 'DQN Small obstacle + no spatial intent', '20220215T063413269718-pushing_4-small_divider-ours-original-no-spatial-intent_900000': 'DDPG Small obstacle + no spatial intent + 900000', '20220215T063413269718-pushing_4-small_divider-ours-original-no-spatial-intent_600000': 'DDPG Small obstacle + no spatial intent + 600000', '20220215T063413269718-pushing_4-small_divider-ours-original-no-spatial-intent': 'DDPG Small obstacle + no spatial intent', '20220215T232034418645-pushing_4-small_divider-ours-original': 'DQN Big obstacle + no spatial intent', '20220214T203627985598-pushing_4-small_divider-ours-original-no-spatial-intent': 'DDPG Big obstacle + no spatial intent', '20220212T195909602578-pushing_4-small_divider-ours-original': 'DDPG equal distribution + OU exploration + spatial intent + big obstacle', '20220212T175537990040-pushing_4-small_divider-ours-original': 'DDPG equal distribution + epsilon exploration + spatial intent + big obstacle', '20220213T073359978229-pushing_4-small_divider-ours-original': 'DDPG equal distribution + epsilon exploration + no spatial intent + big obstacle', '20220213T180107299669-pushing_4-small_divider-no-spatial-map-closest_cube_map-closest_cube_reward': 'DDPG equal distribution + epsilon exploration + no spatial intent + closest cube map +  custom reward + big obstacle', '20220213T180107299669-pushing_4-small_divider-no-spatial-map-closest_cube_map-closest_cube_reward_600000': 'DDPG equal distribution + epsilon exploration + no spatial intent + closest cube map +  custom reward + big obstacle + 600000', '20220213T180107299669-pushing_4-small_divider-no-spatial-map-closest_cube_map-closest_cube_reward_400000': 'DDPG equal distribution + epsilon exploration + no spatial intent + closest cube map +  custom reward + big obstacle + 400000', '20220213T180107299669-pushing_4-small_divider-no-spatial-map-closest_cube_map-closest_cube_reward_900000': 'DDPG equal distribution + epsilon exploration + no spatial intent + closest cube map +  custom reward + big obstacle + 400000', '20220213T073411676355-pushing_4-small_empty-original-closest_cube_map-closest_cube_reward': 'DDPG equal distribution + epsilon exploration + no spatial intent + closest cube map +  custom reward + empty room', '20220217T121109274705-pushing_4-small_divider-ours-original_240000': 'MADDPG Big obstacle + spatial intent + 240000 steps', '20220217T121109274705-pushing_4-small_divider-ours-original_300000': 'MADDPG Big obstacle + spatial intent + 300000 steps', '20220217T121109274705-pushing_4-small_divider-ours-original_400000': 'MADDPG Big obstacle + spatial intent + 400000 steps', '20220217T121109274705-pushing_4-small_divider-ours-original_600000': 'MADDPG Big obstacle + spatial intent + 600000 steps', '20220218T105828582963-pushing_4-small_divider-ours-original-no-spatial-intent-no-closest-map_240000': 'MADDPG Big obstacle + no spatial intent + no closest map +  240000 steps', '20220218T105828582963-pushing_4-small_divider-ours-original-no-spatial-intent-no-closest-map_300000': 'MADDPG Big obstacle + no spatial intent + no closest map +  340000 steps', '20220218T105828582963-pushing_4-small_divider-ours-original-no-spatial-intent-no-closest-map_600000': 'MADDPG Big obstacle + no spatial intent + no closest map +  640000 steps', '20220223T231736340934-pushing_4-small_divider-ours-original-no-spatial-intent-no-closest-map_900000': 'MADDPG Big obstacle + no spatial intent + no closest map +  940000 steps', '20220301T102418854728-pushing_4-small_divider-ours-original_340000': 'DQN Big obstacle + spatial intent+340000', '20220301T102418854728-pushing_4-small_divider-ours-original': 'DQN Big obstacle + spatial intent', '20220301T102454560504-pushing_4-small_divider-ours-closest_cube_map_only': 'DQN Big obstacle + closest cube only ', '20220305T151800611096-pushing_4-small_divider-ours': 'DQN Big obstacle + closest cube only 240000 2', '20220305T151800611096-pushing_4-small_divider-ours_340000': 'DQN Big obstacle + closest cube only 340000 2', '20220306T130901430675-pushing_4-small_divider-ours': 'DDPG Big obstacle + closest cube only ', '20220306T130901430675-pushing_4-small_divider-ours_340000': 'DDPG Big obstacle + closest cube only + 340000', '20220307T194519254398-pushing_4-small_divider-ours-original': 'DDPG Big obstacle + original ', '20220320T220032958474-pushing_4-small_divider-ours-original': 'DDPG Big obstacle + OU exploration + original'}\n"
     ]
    }
   ],
   "source": [
    "print(label_dict)"
   ]
  },
  {
   "cell_type": "code",
   "execution_count": 122,
   "metadata": {},
   "outputs": [],
   "source": [
    "pd.set_option('display.max_rows', None)\n",
    "plt.rcParams['figure.figsize'] = (12, 8)"
   ]
  },
  {
   "cell_type": "code",
   "execution_count": 123,
   "metadata": {},
   "outputs": [],
   "source": [
    "logs_dir = utils.get_logs_dir()\n",
    "eval_dir = utils.get_eval_dir()\n",
    "env_names = ['small_empty', 'small_divider', 'large_empty', 'large_doors', 'large_tunnels', 'large_rooms']\n",
    "step_size = 100"
   ]
  },
  {
   "cell_type": "code",
   "execution_count": 124,
   "metadata": {},
   "outputs": [
    {
     "data": {
      "application/vnd.jupyter.widget-view+json": {
       "model_id": "18875022e9bf4bd7bfb2c9853ee35aa3",
       "version_major": 2,
       "version_minor": 0
      },
      "text/plain": [
       "HBox(children=(FloatProgress(value=0.0, max=30.0), HTML(value='')))"
      ]
     },
     "metadata": {},
     "output_type": "display_data"
    },
    {
     "name": "stdout",
     "output_type": "stream",
     "text": [
      "\n"
     ]
    }
   ],
   "source": [
    "# Load all runs\n",
    "cfgs = [utils.load_config(str(x / 'config.yml')) for x in tqdm(sorted(logs_dir.iterdir())) if x.is_dir()]"
   ]
  },
  {
   "cell_type": "code",
   "execution_count": 125,
   "metadata": {},
   "outputs": [],
   "source": [
    "def extend_curves(curves, min_len=None):\n",
    "    if len(curves) == 0:\n",
    "        return curves\n",
    "    max_length = max(len(curve) for curve in curves)\n",
    "    if min_len is not None:\n",
    "        max_length = max(max_length, min_len)\n",
    "    for i, curve in enumerate(curves):\n",
    "        curves[i] = np.pad(curve, (0, max_length - len(curve)), 'edge')\n",
    "    return curves"
   ]
  },
  {
   "cell_type": "code",
   "execution_count": 126,
   "metadata": {},
   "outputs": [],
   "source": [
    "def get_ratio(cfg):\n",
    "    avg = 0 \n",
    "    try: \n",
    "        eval_path = eval_dir / '{}_ratio.npy'.format(cfg.run_name)        \n",
    "        print(eval_path)\n",
    "        datas = np.load(eval_path, allow_pickle=True)\n",
    "        temp_lis = []\n",
    "        for data in datas: \n",
    "            print(data)\n",
    "            if(data[0] < 1): \n",
    "                print(abs(data[0]*10-1),data[0])\n",
    "                #avg += abs(5 - data[0]*10)\n",
    "            else: \n",
    "                print(abs(data[0]-1),data[0])\n",
    "                #avg+= abs(5-data[0])\n",
    "            temp_lis.append(data[0])\n",
    "            #else: \n",
    "            #print(data[0])\n",
    "            #avg+= data[0]\n",
    "        print(avg/len(datas))\n",
    "        avg = sum(temp_lis) / len(temp_lis)\n",
    "        var = sum((x-avg)**2 for x in temp_lis) / len(temp_lis)\n",
    "        print(temp_lis)\n",
    "        print(var)\n",
    "    except: \n",
    "        pass"
   ]
  },
  {
   "cell_type": "code",
   "execution_count": 127,
   "metadata": {},
   "outputs": [],
   "source": [
    "def get_curve_for_run(cfg):\n",
    "    eval_path = eval_dir / '{}.npy'.format(cfg.run_name)\n",
    "    data = np.load(eval_path, allow_pickle=True)\n",
    "    \n",
    "    curves = []\n",
    "    for episode in data:\n",
    "        cubes = np.asarray([step['cubes'] for step in episode])\n",
    "        simulation_steps = np.array([step['simulation_steps'] for step in episode])\n",
    "        x = np.arange(0, simulation_steps[-1] + step_size, step_size)\n",
    "        xp, fp = simulation_steps, cubes\n",
    "        curves.append(np.floor(np.interp(x, xp, fp, left=0)))\n",
    "    return np.mean(extend_curves(curves), axis=0)"
   ]
  },
  {
   "cell_type": "code",
   "execution_count": 128,
   "metadata": {},
   "outputs": [],
   "source": [
    "data_for_comparison = {}\n",
    "def get_all_curves():\n",
    "    global data_for_comparison\n",
    "    all_curves = {}\n",
    "    for cfg in tqdm(cfgs):\n",
    "        print(\"doing\",cfg.checkpoint_dir.split(\"/\")[1])\n",
    "        experiment_name = cfg.checkpoint_dir.split(\"/\")[1]\n",
    "        if(cfg.env_name not in data_for_comparison): \n",
    "            data_for_comparison[cfg.env_name] = [experiment_name]\n",
    "        else: \n",
    "            data_for_comparison[cfg.env_name].append(experiment_name)\n",
    "        \n",
    "        if experiment_name not in all_curves:\n",
    "            all_curves[experiment_name] = []\n",
    "        get_ratio(cfg)\n",
    "        all_curves[experiment_name].append(get_curve_for_run(cfg))\n",
    "    return all_curves"
   ]
  },
  {
   "cell_type": "code",
   "execution_count": 129,
   "metadata": {},
   "outputs": [
    {
     "data": {
      "application/vnd.jupyter.widget-view+json": {
       "model_id": "bd79379a581d42a7a596f2e9e4fbda40",
       "version_major": 2,
       "version_minor": 0
      },
      "text/plain": [
       "HBox(children=(FloatProgress(value=0.0, max=29.0), HTML(value='')))"
      ]
     },
     "metadata": {},
     "output_type": "display_data"
    },
    {
     "name": "stdout",
     "output_type": "stream",
     "text": [
      "doing 20220212T175537990040-pushing_4-small_divider-ours-original\n",
      "eval/20220212T175537990040-pushing_4-small_divider-ours-original_ratio.npy\n",
      "[1 5]\n",
      "0 1\n",
      "[0 5]\n",
      "1 0\n",
      "[1 5]\n",
      "0 1\n",
      "[1 5]\n",
      "0 1\n",
      "[4 5]\n",
      "3 4\n",
      "[1 2]\n",
      "0 1\n",
      "[1 5]\n",
      "0 1\n",
      "[3 5]\n",
      "2 3\n",
      "[4 4]\n",
      "3 4\n",
      "[4 1]\n",
      "3 4\n",
      "[2 5]\n",
      "1 2\n",
      "[2 5]\n",
      "1 2\n",
      "[2 5]\n",
      "1 2\n",
      "[3 5]\n",
      "2 3\n",
      "[4 5]\n",
      "3 4\n",
      "[3 5]\n",
      "2 3\n",
      "[3 2]\n",
      "2 3\n",
      "[1 2]\n",
      "0 1\n",
      "[5 4]\n",
      "4 5\n",
      "[1 4]\n",
      "0 1\n",
      "0.0\n",
      "[1, 0, 1, 1, 4, 1, 1, 3, 4, 4, 2, 2, 2, 3, 4, 3, 3, 1, 5, 1]\n",
      "1.9100000000000001\n",
      "doing 20220212T195909602578-pushing_4-small_divider-ours-original\n",
      "eval/20220212T195909602578-pushing_4-small_divider-ours-original_ratio.npy\n",
      "[1 3]\n",
      "0 1\n",
      "[2 2]\n",
      "1 2\n",
      "[2 3]\n",
      "1 2\n",
      "[2 5]\n",
      "1 2\n",
      "[3 5]\n",
      "2 3\n",
      "[0 0]\n",
      "1 0\n",
      "[1 4]\n",
      "0 1\n",
      "[3 3]\n",
      "2 3\n",
      "[3 4]\n",
      "2 3\n",
      "[1 0]\n",
      "0 1\n",
      "[1 3]\n",
      "0 1\n",
      "[1 2]\n",
      "0 1\n",
      "[2 4]\n",
      "1 2\n",
      "[4 4]\n",
      "3 4\n",
      "[1 5]\n",
      "0 1\n",
      "[3 5]\n",
      "2 3\n",
      "[1 4]\n",
      "0 1\n",
      "[0 4]\n",
      "1 0\n",
      "[1 1]\n",
      "0 1\n",
      "[1 5]\n",
      "0 1\n",
      "0.0\n",
      "[1, 2, 2, 2, 3, 0, 1, 3, 3, 1, 1, 1, 2, 4, 1, 3, 1, 0, 1, 1]\n",
      "1.1275\n",
      "doing 20220213T073359978229-pushing_4-small_divider-ours-original\n",
      "eval/20220213T073359978229-pushing_4-small_divider-ours-original_ratio.npy\n",
      "[2 5]\n",
      "1 2\n",
      "[4 5]\n",
      "3 4\n",
      "[3 5]\n",
      "2 3\n",
      "[1 5]\n",
      "0 1\n",
      "[4 5]\n",
      "3 4\n",
      "[2 5]\n",
      "1 2\n",
      "[1 5]\n",
      "0 1\n",
      "[2 5]\n",
      "1 2\n",
      "[3 5]\n",
      "2 3\n",
      "[5 0]\n",
      "4 5\n",
      "[2 5]\n",
      "1 2\n",
      "[2 5]\n",
      "1 2\n",
      "[3 5]\n",
      "2 3\n",
      "[2 5]\n",
      "1 2\n",
      "[4 5]\n",
      "3 4\n",
      "[4 5]\n",
      "3 4\n",
      "[3 3]\n",
      "2 3\n",
      "[0 2]\n",
      "1 0\n",
      "[4 4]\n",
      "3 4\n",
      "[2 5]\n",
      "1 2\n",
      "0.0\n",
      "[2, 4, 3, 1, 4, 2, 1, 2, 3, 5, 2, 2, 3, 2, 4, 4, 3, 0, 4, 2]\n",
      "1.5275\n",
      "doing 20220213T073411676355-pushing_4-small_empty-original-closest_cube_map-closest_cube_reward\n",
      "eval/20220213T073411676355-pushing_4-small_empty-original-closest_cube_map-closest_cube_reward_ratio.npy\n",
      "[4 5]\n",
      "3 4\n",
      "[4 5]\n",
      "3 4\n",
      "[4 5]\n",
      "3 4\n",
      "[4 5]\n",
      "3 4\n",
      "[3 5]\n",
      "2 3\n",
      "[2 5]\n",
      "1 2\n",
      "[5 4]\n",
      "4 5\n",
      "[1 5]\n",
      "0 1\n",
      "[4 5]\n",
      "3 4\n",
      "[5 5]\n",
      "4 5\n",
      "[4 5]\n",
      "3 4\n",
      "[3 5]\n",
      "2 3\n",
      "[5 5]\n",
      "4 5\n",
      "[3 5]\n",
      "2 3\n",
      "[5 5]\n",
      "4 5\n",
      "[3 5]\n",
      "2 3\n",
      "[3 5]\n",
      "2 3\n",
      "[2 5]\n",
      "1 2\n",
      "[4 5]\n",
      "3 4\n",
      "[5 5]\n",
      "4 5\n",
      "0.0\n",
      "[4, 4, 4, 4, 3, 2, 5, 1, 4, 5, 4, 3, 5, 3, 5, 3, 3, 2, 4, 5]\n",
      "1.2275\n",
      "doing 20220213T180107299669-pushing_4-small_divider-no-spatial-map-closest_cube_map-closest_cube_reward\n",
      "eval/20220213T180107299669-pushing_4-small_divider-no-spatial-map-closest_cube_map-closest_cube_reward_ratio.npy\n",
      "[1 5]\n",
      "0 1\n",
      "[4 5]\n",
      "3 4\n",
      "[4 4]\n",
      "3 4\n",
      "[0 5]\n",
      "1 0\n",
      "[3 5]\n",
      "2 3\n",
      "[3 4]\n",
      "2 3\n",
      "[1 5]\n",
      "0 1\n",
      "[3 5]\n",
      "2 3\n",
      "[2 4]\n",
      "1 2\n",
      "[4 5]\n",
      "3 4\n",
      "[0 5]\n",
      "1 0\n",
      "[2 5]\n",
      "1 2\n",
      "[3 5]\n",
      "2 3\n",
      "[1 5]\n",
      "0 1\n",
      "[4 2]\n",
      "3 4\n",
      "[3 4]\n",
      "2 3\n",
      "[1 5]\n",
      "0 1\n",
      "[1 4]\n",
      "0 1\n",
      "[1 3]\n",
      "0 1\n",
      "[1 4]\n",
      "0 1\n",
      "0.0\n",
      "[1, 4, 4, 0, 3, 3, 1, 3, 2, 4, 0, 2, 3, 1, 4, 3, 1, 1, 1, 1]\n",
      "1.7900000000000003\n",
      "doing 20220213T180107299669-pushing_4-small_divider-no-spatial-map-closest_cube_map-closest_cube_reward_400000\n",
      "eval/20220213T180107299669-pushing_4-small_divider-no-spatial-map-closest_cube_map-closest_cube_reward_400000_ratio.npy\n",
      "doing 20220213T180107299669-pushing_4-small_divider-no-spatial-map-closest_cube_map-closest_cube_reward_600000\n",
      "eval/20220213T180107299669-pushing_4-small_divider-no-spatial-map-closest_cube_map-closest_cube_reward_600000_ratio.npy\n",
      "doing 20220213T180107299669-pushing_4-small_divider-no-spatial-map-closest_cube_map-closest_cube_reward_900000\n",
      "eval/20220213T180107299669-pushing_4-small_divider-no-spatial-map-closest_cube_map-closest_cube_reward_900000_ratio.npy\n",
      "doing 20220214T203627985598-pushing_4-small_divider-ours-original-no-spatial-intent\n",
      "eval/20220214T203627985598-pushing_4-small_divider-ours-original-no-spatial-intent_ratio.npy\n",
      "[3 6]\n",
      "2 3\n",
      "[2 5]\n",
      "1 2\n",
      "[4 1]\n",
      "3 4\n",
      "[3 7]\n",
      "2 3\n",
      "[5 4]\n",
      "4 5\n",
      "[6 4]\n",
      "5 6\n",
      "[3 5]\n",
      "2 3\n",
      "[4 6]\n",
      "3 4\n",
      "[3 6]\n",
      "2 3\n",
      "[5 1]\n",
      "4 5\n",
      "[2 7]\n",
      "1 2\n",
      "[4 6]\n",
      "3 4\n",
      "[3 6]\n",
      "2 3\n",
      "[2 8]\n",
      "1 2\n",
      "[0 10]\n",
      "1 0\n",
      "[3 5]\n",
      "2 3\n",
      "[3 7]\n",
      "2 3\n",
      "[5 4]\n",
      "4 5\n",
      "[3 7]\n",
      "2 3\n",
      "[1 7]\n",
      "0 1\n",
      "0.0\n",
      "[3, 2, 4, 3, 5, 6, 3, 4, 3, 5, 2, 4, 3, 2, 0, 3, 3, 5, 3, 1]\n",
      "1.9600000000000002\n",
      "doing 20220215T063413269718-pushing_4-small_divider-ours-original-no-spatial-intent\n",
      "eval/20220215T063413269718-pushing_4-small_divider-ours-original-no-spatial-intent_ratio.npy\n",
      "[3 5]\n",
      "2 3\n",
      "[1 8]\n",
      "0 1\n",
      "[3 7]\n",
      "2 3\n",
      "[1 7]\n",
      "0 1\n",
      "[5 5]\n",
      "4 5\n",
      "[3 7]\n",
      "2 3\n",
      "[2 5]\n",
      "1 2\n",
      "[1 5]\n",
      "0 1\n",
      "[2 5]\n",
      "1 2\n",
      "[4 6]\n",
      "3 4\n",
      "[3 7]\n",
      "2 3\n",
      "[7 3]\n",
      "6 7\n",
      "[4 3]\n",
      "3 4\n",
      "[1 9]\n",
      "0 1\n",
      "[2 8]\n",
      "1 2\n",
      "[3 6]\n",
      "2 3\n",
      "[6 4]\n",
      "5 6\n",
      "[4 3]\n",
      "3 4\n",
      "[3 2]\n",
      "2 3\n",
      "[3 6]\n",
      "2 3\n",
      "0.0\n",
      "[3, 1, 3, 1, 5, 3, 2, 1, 2, 4, 3, 7, 4, 1, 2, 3, 6, 4, 3, 3]\n",
      "2.5475000000000003\n",
      "doing 20220215T063413269718-pushing_4-small_divider-ours-original-no-spatial-intent_600000\n",
      "eval/20220215T063413269718-pushing_4-small_divider-ours-original-no-spatial-intent_600000_ratio.npy\n",
      "doing 20220215T231623912054-pushing_4-small_divider-ours-original\n",
      "eval/20220215T231623912054-pushing_4-small_divider-ours-original_ratio.npy\n",
      "[3 7]\n",
      "2 3\n",
      "[7 3]\n",
      "6 7\n",
      "[7 3]\n",
      "6 7\n",
      "[3 7]\n",
      "2 3\n",
      "[5 5]\n",
      "4 5\n",
      "[4 5]\n",
      "3 4\n",
      "[7 3]\n",
      "6 7\n",
      "[4 6]\n",
      "3 4\n",
      "[2 8]\n",
      "1 2\n",
      "[8 2]\n",
      "7 8\n",
      "[3 6]\n",
      "2 3\n",
      "[6 4]\n",
      "5 6\n",
      "[6 4]\n",
      "5 6\n",
      "[6 4]\n",
      "5 6\n",
      "[2 8]\n",
      "1 2\n",
      "[3 6]\n",
      "2 3\n",
      "[4 6]\n",
      "3 4\n",
      "[5 5]\n",
      "4 5\n",
      "[5 4]\n",
      "4 5\n",
      "[3 6]\n",
      "2 3\n",
      "0.0\n",
      "[3, 7, 7, 3, 5, 4, 7, 4, 2, 8, 3, 6, 6, 6, 2, 3, 4, 5, 5, 3]\n",
      "3.1275000000000004\n",
      "doing 20220215T232034418645-pushing_4-small_divider-ours-original\n",
      "eval/20220215T232034418645-pushing_4-small_divider-ours-original_ratio.npy\n",
      "[1 6]\n",
      "0 1\n",
      "[4 4]\n",
      "3 4\n",
      "[2 4]\n",
      "1 2\n",
      "[5 5]\n",
      "4 5\n",
      "[5 5]\n",
      "4 5\n",
      "[4 4]\n",
      "3 4\n",
      "[2 3]\n",
      "1 2\n",
      "[6 2]\n",
      "5 6\n",
      "[6 3]\n",
      "5 6\n",
      "[8 1]\n",
      "7 8\n",
      "[3 6]\n",
      "2 3\n",
      "[6 2]\n",
      "5 6\n",
      "[4 5]\n",
      "3 4\n",
      "[7 3]\n",
      "6 7\n",
      "[4 4]\n",
      "3 4\n",
      "[5 4]\n",
      "4 5\n",
      "[3 5]\n",
      "2 3\n",
      "[1 7]\n",
      "0 1\n",
      "[6 2]\n",
      "5 6\n",
      "[2 3]\n",
      "1 2\n",
      "0.0\n",
      "[1, 4, 2, 5, 5, 4, 2, 6, 6, 8, 3, 6, 4, 7, 4, 5, 3, 1, 6, 2]\n",
      "3.7600000000000002\n",
      "doing 20220217T121109274705-pushing_4-small_divider-ours-original_240000\n",
      "eval/20220217T121109274705-pushing_4-small_divider-ours-original_240000_ratio.npy\n",
      "doing 20220217T121109274705-pushing_4-small_divider-ours-original_300000\n",
      "eval/20220217T121109274705-pushing_4-small_divider-ours-original_300000_ratio.npy\n",
      "doing 20220217T121109274705-pushing_4-small_divider-ours-original_600000\n",
      "eval/20220217T121109274705-pushing_4-small_divider-ours-original_600000_ratio.npy\n",
      "doing 20220218T105828582963-pushing_4-small_divider-ours-original-no-spatial-intent-no-closest-map_240000\n",
      "eval/20220218T105828582963-pushing_4-small_divider-ours-original-no-spatial-intent-no-closest-map_240000_ratio.npy\n",
      "doing 20220218T105828582963-pushing_4-small_divider-ours-original-no-spatial-intent-no-closest-map_300000\n",
      "eval/20220218T105828582963-pushing_4-small_divider-ours-original-no-spatial-intent-no-closest-map_300000_ratio.npy\n",
      "doing 20220218T105828582963-pushing_4-small_divider-ours-original-no-spatial-intent-no-closest-map_600000\n",
      "eval/20220218T105828582963-pushing_4-small_divider-ours-original-no-spatial-intent-no-closest-map_600000_ratio.npy\n",
      "doing 20220223T231736340934-pushing_4-small_divider-ours-original-no-spatial-intent-no-closest-map_900000\n",
      "eval/20220223T231736340934-pushing_4-small_divider-ours-original-no-spatial-intent-no-closest-map_900000_ratio.npy\n",
      "doing 20220301T102418854728-pushing_4-small_divider-ours-original\n",
      "eval/20220301T102418854728-pushing_4-small_divider-ours-original_ratio.npy\n",
      "[3 5]\n",
      "2 3\n",
      "[4 4]\n",
      "3 4\n",
      "[2 8]\n",
      "1 2\n",
      "[6 4]\n",
      "5 6\n",
      "[5 4]\n",
      "4 5\n",
      "[2 4]\n",
      "1 2\n",
      "[2 6]\n",
      "1 2\n",
      "[4 4]\n",
      "3 4\n",
      "[2 7]\n",
      "1 2\n",
      "[6 4]\n",
      "5 6\n",
      "[3 6]\n",
      "2 3\n",
      "[6 2]\n",
      "5 6\n",
      "[3 6]\n",
      "2 3\n",
      "[3 3]\n",
      "2 3\n",
      "[2 4]\n",
      "1 2\n",
      "[5 4]\n",
      "4 5\n",
      "[3 4]\n",
      "2 3\n",
      "[3 3]\n",
      "2 3\n",
      "[6 4]\n",
      "5 6\n",
      "[1 8]\n",
      "0 1\n",
      "0.0\n",
      "[3, 4, 2, 6, 5, 2, 2, 4, 2, 6, 3, 6, 3, 3, 2, 5, 3, 3, 6, 1]\n",
      "2.4475000000000002\n",
      "doing 20220301T102418854728-pushing_4-small_divider-ours-original_340000\n",
      "eval/20220301T102418854728-pushing_4-small_divider-ours-original_340000_ratio.npy\n",
      "doing 20220301T102454560504-pushing_4-small_divider-ours-closest_cube_map_only\n",
      "eval/20220301T102454560504-pushing_4-small_divider-ours-closest_cube_map_only_ratio.npy\n",
      "[2 6]\n",
      "1 2\n",
      "[5 4]\n",
      "4 5\n",
      "[3 5]\n",
      "2 3\n",
      "[3 3]\n",
      "2 3\n",
      "[7 1]\n",
      "6 7\n",
      "[6 4]\n",
      "5 6\n",
      "[2 6]\n",
      "1 2\n",
      "[6 3]\n",
      "5 6\n",
      "[6 4]\n",
      "5 6\n",
      "[6 3]\n",
      "5 6\n",
      "[4 4]\n",
      "3 4\n",
      "[7 1]\n",
      "6 7\n",
      "[3 6]\n",
      "2 3\n",
      "[6 3]\n",
      "5 6\n",
      "[4 5]\n",
      "3 4\n",
      "[5 4]\n",
      "4 5\n",
      "[2 4]\n",
      "1 2\n",
      "[2 5]\n",
      "1 2\n",
      "[5 2]\n",
      "4 5\n",
      "[2 7]\n",
      "1 2\n",
      "0.0\n",
      "[2, 5, 3, 3, 7, 6, 2, 6, 6, 6, 4, 7, 3, 6, 4, 5, 2, 2, 5, 2]\n",
      "3.1100000000000003\n",
      "doing 20220305T151800611096-pushing_4-small_divider-ours\n",
      "eval/20220305T151800611096-pushing_4-small_divider-ours_ratio.npy\n",
      "[6 2]\n",
      "5 6\n",
      "[9 1]\n",
      "8 9\n",
      "[3 4]\n",
      "2 3\n",
      "[9 1]\n",
      "8 9\n",
      "[6 2]\n",
      "5 6\n",
      "[5 3]\n",
      "4 5\n",
      "[5 4]\n",
      "4 5\n",
      "[6 3]\n",
      "5 6\n",
      "[4 4]\n",
      "3 4\n",
      "[4 2]\n",
      "3 4\n",
      "[4 3]\n",
      "3 4\n",
      "[7 0]\n",
      "6 7\n",
      "[7 3]\n",
      "6 7\n",
      "[7 2]\n",
      "6 7\n",
      "[4 2]\n",
      "3 4\n",
      "[5 3]\n",
      "4 5\n",
      "[4 4]\n",
      "3 4\n",
      "[4 5]\n",
      "3 4\n",
      "[6 2]\n",
      "5 6\n",
      "[6 3]\n",
      "5 6\n",
      "0.0\n",
      "[6, 9, 3, 9, 6, 5, 5, 6, 4, 4, 4, 7, 7, 7, 4, 5, 4, 4, 6, 6]\n",
      "2.647499999999999\n",
      "doing 20220305T151800611096-pushing_4-small_divider-ours_340000\n",
      "eval/20220305T151800611096-pushing_4-small_divider-ours_340000_ratio.npy\n",
      "doing 20220306T130901430675-pushing_4-small_divider-ours\n",
      "eval/20220306T130901430675-pushing_4-small_divider-ours_ratio.npy\n",
      "[1 8]\n",
      "0 1\n",
      "[5 5]\n",
      "4 5\n",
      "[5 2]\n",
      "4 5\n",
      "[0 6]\n",
      "1 0\n",
      "[4 5]\n",
      "3 4\n",
      "[6 3]\n",
      "5 6\n",
      "[3 5]\n",
      "2 3\n",
      "[2 8]\n",
      "1 2\n",
      "[4 5]\n",
      "3 4\n",
      "[4 2]\n",
      "3 4\n",
      "[2 6]\n",
      "1 2\n",
      "[3 7]\n",
      "2 3\n",
      "[5 0]\n",
      "4 5\n",
      "[2 6]\n",
      "1 2\n",
      "[1 9]\n",
      "0 1\n",
      "[0 7]\n",
      "1 0\n",
      "[6 4]\n",
      "5 6\n",
      "[4 6]\n",
      "3 4\n",
      "[3 7]\n",
      "2 3\n",
      "[3 7]\n",
      "2 3\n",
      "0.0\n",
      "[1, 5, 5, 0, 4, 6, 3, 2, 4, 4, 2, 3, 5, 2, 1, 0, 6, 4, 3, 3]\n",
      "3.1275\n",
      "doing 20220306T130901430675-pushing_4-small_divider-ours_340000\n",
      "eval/20220306T130901430675-pushing_4-small_divider-ours_340000_ratio.npy\n"
     ]
    },
    {
     "name": "stdout",
     "output_type": "stream",
     "text": [
      "doing 20220307T194519254398-pushing_4-small_divider-ours-original\n",
      "eval/20220307T194519254398-pushing_4-small_divider-ours-original_ratio.npy\n",
      "[3 6]\n",
      "2 3\n",
      "[3 7]\n",
      "2 3\n",
      "[5 5]\n",
      "4 5\n",
      "[1 9]\n",
      "0 1\n",
      "[0 6]\n",
      "1 0\n",
      "[5 5]\n",
      "4 5\n",
      "[3 7]\n",
      "2 3\n",
      "[4 6]\n",
      "3 4\n",
      "[2 7]\n",
      "1 2\n",
      "[2 7]\n",
      "1 2\n",
      "[3 7]\n",
      "2 3\n",
      "[5 4]\n",
      "4 5\n",
      "[3 6]\n",
      "2 3\n",
      "[3 7]\n",
      "2 3\n",
      "[6 3]\n",
      "5 6\n",
      "[3 6]\n",
      "2 3\n",
      "[1 8]\n",
      "0 1\n",
      "[6 4]\n",
      "5 6\n",
      "[2 7]\n",
      "1 2\n",
      "[2 8]\n",
      "1 2\n",
      "0.0\n",
      "[3, 3, 5, 1, 0, 5, 3, 4, 2, 2, 3, 5, 3, 3, 6, 3, 1, 6, 2, 2]\n",
      "2.59\n",
      "doing 20220320T220032958474-pushing_4-small_divider-ours-original\n",
      "eval/20220320T220032958474-pushing_4-small_divider-ours-original_ratio.npy\n",
      "[2 7]\n",
      "1 2\n",
      "[2 4]\n",
      "1 2\n",
      "[5 3]\n",
      "4 5\n",
      "[3 4]\n",
      "2 3\n",
      "[5 4]\n",
      "4 5\n",
      "[2 5]\n",
      "1 2\n",
      "[5 5]\n",
      "4 5\n",
      "[4 5]\n",
      "3 4\n",
      "[2 7]\n",
      "1 2\n",
      "[5 3]\n",
      "4 5\n",
      "[2 8]\n",
      "1 2\n",
      "[4 3]\n",
      "3 4\n",
      "[2 4]\n",
      "1 2\n",
      "[2 6]\n",
      "1 2\n",
      "[2 8]\n",
      "1 2\n",
      "[3 6]\n",
      "2 3\n",
      "[2 6]\n",
      "1 2\n",
      "[3 6]\n",
      "2 3\n",
      "[0 1]\n",
      "1 0\n",
      "[2 5]\n",
      "1 2\n",
      "0.0\n",
      "[2, 2, 5, 3, 5, 2, 5, 4, 2, 5, 2, 4, 2, 2, 2, 3, 2, 3, 0, 2]\n",
      "1.8275\n",
      "\n"
     ]
    }
   ],
   "source": [
    "all_curves = get_all_curves()"
   ]
  },
  {
   "cell_type": "code",
   "execution_count": 130,
   "metadata": {},
   "outputs": [],
   "source": [
    "def get_all_cutoffs():\n",
    "    all_cutoffs = {}\n",
    "    for cfg in tqdm(cfgs):\n",
    "        robot_config_str = cfg.experiment_name.split('-')[0]\n",
    "        print(robot_config_str)\n",
    "        experiment_name = cfg.checkpoint_dir.split(\"/\")[1]\n",
    "        robot_config_str  = experiment_name\n",
    "        if robot_config_str not in all_cutoffs:\n",
    "            all_cutoffs[robot_config_str] = {}\n",
    "        if cfg.env_name not in all_cutoffs[robot_config_str]:\n",
    "            all_cutoffs[robot_config_str][cfg.env_name] = float('inf')\n",
    "\n",
    "        # Find the time at which the last cube was successfully foraged\n",
    "        y_mean = np.mean(extend_curves(all_curves[experiment_name]), axis=0)\n",
    "        this_len = np.searchsorted(y_mean > y_mean[-1] - 0.5, True)  # Subtract 0.5 since interpolated curves are continuous\n",
    "        all_cutoffs[robot_config_str][cfg.env_name] = min(all_cutoffs[robot_config_str][cfg.env_name], this_len)\n",
    "    return all_cutoffs"
   ]
  },
  {
   "cell_type": "code",
   "execution_count": 131,
   "metadata": {},
   "outputs": [
    {
     "data": {
      "application/vnd.jupyter.widget-view+json": {
       "model_id": "87c78dd22b57459b9fe85a70b4855de1",
       "version_major": 2,
       "version_minor": 0
      },
      "text/plain": [
       "HBox(children=(FloatProgress(value=0.0, max=29.0), HTML(value='')))"
      ]
     },
     "metadata": {},
     "output_type": "display_data"
    },
    {
     "name": "stdout",
     "output_type": "stream",
     "text": [
      "pushing_4\n",
      "pushing_4\n",
      "pushing_4\n",
      "pushing_4\n",
      "pushing_4\n",
      "pushing_4\n",
      "pushing_4\n",
      "pushing_4\n",
      "pushing_4\n",
      "pushing_4\n",
      "pushing_4\n",
      "pushing_4\n",
      "pushing_4\n",
      "pushing_4\n",
      "pushing_4\n",
      "pushing_4\n",
      "pushing_4\n",
      "pushing_4\n",
      "pushing_4\n",
      "pushing_4\n",
      "pushing_4\n",
      "pushing_4\n",
      "pushing_4\n",
      "pushing_4\n",
      "pushing_4\n",
      "pushing_4\n",
      "pushing_4\n",
      "pushing_4\n",
      "pushing_4\n",
      "\n"
     ]
    }
   ],
   "source": [
    "all_cutoffs = get_all_cutoffs()"
   ]
  },
  {
   "cell_type": "code",
   "execution_count": 132,
   "metadata": {},
   "outputs": [],
   "source": [
    "def get_all_results():\n",
    "    all_results = {}\n",
    "    for cfg in tqdm(cfgs):\n",
    "        experiment_name = cfg.checkpoint_dir.split(\"/\")[1]\n",
    "        robot_config_str = cfg.experiment_name.split('-')[0]\n",
    "        robot_config_str  = experiment_name\n",
    "        if robot_config_str not in all_results:\n",
    "            all_results[robot_config_str] = {}\n",
    "        cutoff = all_cutoffs[robot_config_str][cfg.env_name]\n",
    "        curves = extend_curves(all_curves[experiment_name], min_len=(cutoff + 1))\n",
    "        cubes = [curve[cutoff] for curve in curves]\n",
    "        all_results[robot_config_str][experiment_name] = '{:.2f} ± {:.2f}'.format(np.mean(cubes), np.std(cubes))\n",
    "    return all_results"
   ]
  },
  {
   "cell_type": "code",
   "execution_count": 133,
   "metadata": {},
   "outputs": [
    {
     "data": {
      "application/vnd.jupyter.widget-view+json": {
       "model_id": "782de069c7ca4b9ebb93cd8a3b886a1b",
       "version_major": 2,
       "version_minor": 0
      },
      "text/plain": [
       "HBox(children=(FloatProgress(value=0.0, max=29.0), HTML(value='')))"
      ]
     },
     "metadata": {},
     "output_type": "display_data"
    },
    {
     "name": "stdout",
     "output_type": "stream",
     "text": [
      "\n"
     ]
    }
   ],
   "source": [
    "all_results = get_all_results()"
   ]
  },
  {
   "cell_type": "code",
   "execution_count": 134,
   "metadata": {},
   "outputs": [],
   "source": [
    "def show_table():\n",
    "    def f(robot_config_str):\n",
    "        data = {'performance': all_results[robot_config_str]}\n",
    "        display(pd.DataFrame(data))\n",
    "\n",
    "    robot_config_str_dropdown = widgets.RadioButtons(options=sorted(all_results.keys()))\n",
    "    interact(f, robot_config_str=robot_config_str_dropdown)"
   ]
  },
  {
   "cell_type": "code",
   "execution_count": 135,
   "metadata": {
    "scrolled": false
   },
   "outputs": [
    {
     "data": {
      "application/vnd.jupyter.widget-view+json": {
       "model_id": "5c33a1732e6145fdbaf2c1a0c34d5aa3",
       "version_major": 2,
       "version_minor": 0
      },
      "text/plain": [
       "interactive(children=(RadioButtons(description='robot_config_str', options=('20220212T175537990040-pushing_4-s…"
      ]
     },
     "metadata": {},
     "output_type": "display_data"
    }
   ],
   "source": [
    "# Note: These metrics measure relative performance, see show_curves() for plots of absolute performance\n",
    "show_table()"
   ]
  },
  {
   "cell_type": "code",
   "execution_count": 136,
   "metadata": {},
   "outputs": [],
   "source": [
    "def show_curves():\n",
    "    def plot_curves(experiment_names, env_name, fontsize=20):\n",
    "        experiment_names = list(experiment_names)\n",
    "        i = 0 \n",
    "        while(i< len(experiment_names)): \n",
    "            \n",
    "            experiment_names[i] = label_to_value[experiment_names[i]]\n",
    "            i+=1\n",
    "        max_simulation_step = 0 \n",
    "        print(len(all_curves[experiment_names[0]][0]))\n",
    "        \n",
    "        max_length = max(len(all_curves[experiment_name][0]) for experiment_name in experiment_names)\n",
    "        \n",
    "        for experiment_name in experiment_names: \n",
    "            \n",
    "            curve = all_curves[experiment_name][0]\n",
    "            all_curves[experiment_name][0] = np.pad(curve, (0, max_length - len(curve)), 'edge')\n",
    "         \n",
    "        for experiment_name in experiment_names:\n",
    "            # Plot cutoff\n",
    "            robot_config_str = experiment_name.split('-')[0]\n",
    "            robot_config_str = experiment_name\n",
    "            \n",
    "            #best_len = all_cutoffs[robot_config_str][env_name]\n",
    "            #plt.axvline(best_len * step_size, linewidth=1, c='r')\n",
    "           \n",
    "            # Plot curve\n",
    "            curves = extend_curves(all_curves[experiment_name])\n",
    "            x = np.arange(0, (len(curves[0]) - 0.5) * step_size, step_size)\n",
    "            y_mean, y_std = np.mean(curves, axis=0), np.std(curves, axis=0)\n",
    "            label = '{} ({})'.format(label_dict[experiment_name], all_results[robot_config_str][experiment_name])\n",
    "            plt.plot(x, y_mean, label=label)\n",
    "            plt.fill_between(x, y_mean - y_std, y_mean + y_std, alpha=0.2)\n",
    "\n",
    "        num_cubes = 20 if env_name.startswith('large') else 10\n",
    "        \n",
    "        plt.xlim(0)\n",
    "        \n",
    "        plt.ylim(0, num_cubes+1)\n",
    "        plt.xticks(fontsize=fontsize - 2)\n",
    "        plt.yticks(range(0, num_cubes + 1, 2), fontsize=fontsize - 2)\n",
    "        plt.xlabel('Simulation Steps', fontsize=fontsize)\n",
    "        plt.ylabel('Num Objects', fontsize=fontsize)\n",
    "        plt.legend(fontsize=fontsize - 2)\n",
    "\n",
    "    def f(env_name, experiment_names):\n",
    "        print(experiment_names)\n",
    "        if len(experiment_names) == 0:\n",
    "            return\n",
    "        #tuple(data_for_comparison[env_name])\n",
    "        plot_curves( experiment_names,env_name)\n",
    "        plt.show()\n",
    "\n",
    "    env_name_radio = widgets.RadioButtons(options=env_names)\n",
    "    experiment_names_select = widgets.SelectMultiple(layout=widgets.Layout(width='60%', height='150px'))\n",
    "    def update_experiment_names_options(*_):\n",
    "        matching_experiment_names = []\n",
    "        matching_experiment_names_2 = []\n",
    "        for experiment_name in sorted(all_curves):\n",
    "            if env_name_radio.value in experiment_name:\n",
    "                matching_experiment_names.append(experiment_name)\n",
    "                matching_experiment_names_2.append(label_dict[experiment_name])\n",
    "        experiment_names_select.options = matching_experiment_names_2\n",
    "        experiment_names_select.rows = len(matching_experiment_names)\n",
    "        experiment_names_select.value = ()\n",
    "    env_name_radio.observe(update_experiment_names_options)\n",
    "    interact(f, env_name=env_name_radio, experiment_names=experiment_names_select)"
   ]
  },
  {
   "cell_type": "code",
   "execution_count": 137,
   "metadata": {},
   "outputs": [
    {
     "data": {
      "application/vnd.jupyter.widget-view+json": {
       "model_id": "f1634fb6e5a445a6a0ef083db16ed58c",
       "version_major": 2,
       "version_minor": 0
      },
      "text/plain": [
       "interactive(children=(RadioButtons(description='env_name', options=('small_empty', 'small_divider', 'large_emp…"
      ]
     },
     "metadata": {},
     "output_type": "display_data"
    }
   ],
   "source": [
    "\n",
    "# Note: The vertical red line is used to measure relative performance, the curves show absolute performance\n",
    "show_curves()"
   ]
  },
  {
   "cell_type": "code",
   "execution_count": 138,
   "metadata": {},
   "outputs": [
    {
     "data": {
      "application/vnd.jupyter.widget-view+json": {
       "model_id": "c85fb445cc3b45079b5b2309760755b0",
       "version_major": 2,
       "version_minor": 0
      },
      "text/plain": [
       "Checkbox(value=False, description='DDPG equal distribution + epsilon exploration + spatial intent + big obstac…"
      ]
     },
     "metadata": {},
     "output_type": "display_data"
    },
    {
     "data": {
      "application/vnd.jupyter.widget-view+json": {
       "model_id": "969b7355bc704f92820eb12f4d5f6157",
       "version_major": 2,
       "version_minor": 0
      },
      "text/plain": [
       "Output()"
      ]
     },
     "metadata": {},
     "output_type": "display_data"
    },
    {
     "data": {
      "application/vnd.jupyter.widget-view+json": {
       "model_id": "b5e81fc7885549a7a70ef4abde8b74a6",
       "version_major": 2,
       "version_minor": 0
      },
      "text/plain": [
       "Checkbox(value=False, description='DDPG equal distribution + OU exploration + spatial intent + big obstacle')"
      ]
     },
     "metadata": {},
     "output_type": "display_data"
    },
    {
     "data": {
      "application/vnd.jupyter.widget-view+json": {
       "model_id": "dc24f61c52d14bbeb43d0cdae1970050",
       "version_major": 2,
       "version_minor": 0
      },
      "text/plain": [
       "Output()"
      ]
     },
     "metadata": {},
     "output_type": "display_data"
    },
    {
     "data": {
      "application/vnd.jupyter.widget-view+json": {
       "model_id": "2d64e31779414055b7b0cce4da37923d",
       "version_major": 2,
       "version_minor": 0
      },
      "text/plain": [
       "Checkbox(value=False, description='DDPG equal distribution + epsilon exploration + no spatial intent + big obs…"
      ]
     },
     "metadata": {},
     "output_type": "display_data"
    },
    {
     "data": {
      "application/vnd.jupyter.widget-view+json": {
       "model_id": "9f209ed6a460457b9e939e2291ec3136",
       "version_major": 2,
       "version_minor": 0
      },
      "text/plain": [
       "Output()"
      ]
     },
     "metadata": {},
     "output_type": "display_data"
    },
    {
     "data": {
      "application/vnd.jupyter.widget-view+json": {
       "model_id": "1dba7cf3ea9248a7be96601198e2324a",
       "version_major": 2,
       "version_minor": 0
      },
      "text/plain": [
       "Checkbox(value=False, description='DDPG equal distribution + epsilon exploration + no spatial intent + closest…"
      ]
     },
     "metadata": {},
     "output_type": "display_data"
    },
    {
     "data": {
      "application/vnd.jupyter.widget-view+json": {
       "model_id": "0be514cd965547ed8bf57037b3349b4a",
       "version_major": 2,
       "version_minor": 0
      },
      "text/plain": [
       "Output()"
      ]
     },
     "metadata": {},
     "output_type": "display_data"
    },
    {
     "data": {
      "application/vnd.jupyter.widget-view+json": {
       "model_id": "8fd5f42b98f446b69708a084ca346853",
       "version_major": 2,
       "version_minor": 0
      },
      "text/plain": [
       "Checkbox(value=False, description='DDPG equal distribution + epsilon exploration + no spatial intent + closest…"
      ]
     },
     "metadata": {},
     "output_type": "display_data"
    },
    {
     "data": {
      "application/vnd.jupyter.widget-view+json": {
       "model_id": "30777b20c9a34a0eac8dfa819a5adb02",
       "version_major": 2,
       "version_minor": 0
      },
      "text/plain": [
       "Output()"
      ]
     },
     "metadata": {},
     "output_type": "display_data"
    },
    {
     "data": {
      "application/vnd.jupyter.widget-view+json": {
       "model_id": "0f15d53c4d8f458d9e23fc978c9300a8",
       "version_major": 2,
       "version_minor": 0
      },
      "text/plain": [
       "Checkbox(value=False, description='DDPG equal distribution + epsilon exploration + no spatial intent + closest…"
      ]
     },
     "metadata": {},
     "output_type": "display_data"
    },
    {
     "data": {
      "application/vnd.jupyter.widget-view+json": {
       "model_id": "ec5ef9d0655847f49adacb7a31eed402",
       "version_major": 2,
       "version_minor": 0
      },
      "text/plain": [
       "Output()"
      ]
     },
     "metadata": {},
     "output_type": "display_data"
    },
    {
     "data": {
      "application/vnd.jupyter.widget-view+json": {
       "model_id": "ad875c92332c47b3abbc5da271a6f094",
       "version_major": 2,
       "version_minor": 0
      },
      "text/plain": [
       "Checkbox(value=False, description='DDPG equal distribution + epsilon exploration + no spatial intent + closest…"
      ]
     },
     "metadata": {},
     "output_type": "display_data"
    },
    {
     "data": {
      "application/vnd.jupyter.widget-view+json": {
       "model_id": "a3a14db25eb04be89e753f9530a70b2c",
       "version_major": 2,
       "version_minor": 0
      },
      "text/plain": [
       "Output()"
      ]
     },
     "metadata": {},
     "output_type": "display_data"
    },
    {
     "data": {
      "application/vnd.jupyter.widget-view+json": {
       "model_id": "3b976fd3ad7f42d5a73cf3723efb4f64",
       "version_major": 2,
       "version_minor": 0
      },
      "text/plain": [
       "Checkbox(value=False, description='DDPG Big obstacle + no spatial intent')"
      ]
     },
     "metadata": {},
     "output_type": "display_data"
    },
    {
     "data": {
      "application/vnd.jupyter.widget-view+json": {
       "model_id": "dbcecdb301df4aa488a016d32ec75ffe",
       "version_major": 2,
       "version_minor": 0
      },
      "text/plain": [
       "Output()"
      ]
     },
     "metadata": {},
     "output_type": "display_data"
    },
    {
     "data": {
      "application/vnd.jupyter.widget-view+json": {
       "model_id": "0f60acbdc88f473096db57b5a39c1df7",
       "version_major": 2,
       "version_minor": 0
      },
      "text/plain": [
       "Checkbox(value=False, description='DDPG Small obstacle + no spatial intent')"
      ]
     },
     "metadata": {},
     "output_type": "display_data"
    },
    {
     "data": {
      "application/vnd.jupyter.widget-view+json": {
       "model_id": "479c6519aa6b4397892c92eeb8e4b7a8",
       "version_major": 2,
       "version_minor": 0
      },
      "text/plain": [
       "Output()"
      ]
     },
     "metadata": {},
     "output_type": "display_data"
    },
    {
     "data": {
      "application/vnd.jupyter.widget-view+json": {
       "model_id": "d4ea4d8e9f68426598aa356b9721c8da",
       "version_major": 2,
       "version_minor": 0
      },
      "text/plain": [
       "Checkbox(value=False, description='DDPG Small obstacle + no spatial intent + 600000')"
      ]
     },
     "metadata": {},
     "output_type": "display_data"
    },
    {
     "data": {
      "application/vnd.jupyter.widget-view+json": {
       "model_id": "62621dde327c4f8aa555a4ac347501e5",
       "version_major": 2,
       "version_minor": 0
      },
      "text/plain": [
       "Output()"
      ]
     },
     "metadata": {},
     "output_type": "display_data"
    },
    {
     "data": {
      "application/vnd.jupyter.widget-view+json": {
       "model_id": "3eab7f2bc33c4236a3e00a8d474ed8db",
       "version_major": 2,
       "version_minor": 0
      },
      "text/plain": [
       "Checkbox(value=False, description='DQN Small obstacle + no spatial intent')"
      ]
     },
     "metadata": {},
     "output_type": "display_data"
    },
    {
     "data": {
      "application/vnd.jupyter.widget-view+json": {
       "model_id": "bfc4523f38084d76b320228c7a3837b5",
       "version_major": 2,
       "version_minor": 0
      },
      "text/plain": [
       "Output()"
      ]
     },
     "metadata": {},
     "output_type": "display_data"
    },
    {
     "data": {
      "application/vnd.jupyter.widget-view+json": {
       "model_id": "af6e8d22f64146ff9e38f5274a874611",
       "version_major": 2,
       "version_minor": 0
      },
      "text/plain": [
       "Checkbox(value=False, description='DQN Big obstacle + no spatial intent')"
      ]
     },
     "metadata": {},
     "output_type": "display_data"
    },
    {
     "data": {
      "application/vnd.jupyter.widget-view+json": {
       "model_id": "ed1b874a47034d4b9cfc0ba1da694b0f",
       "version_major": 2,
       "version_minor": 0
      },
      "text/plain": [
       "Output()"
      ]
     },
     "metadata": {},
     "output_type": "display_data"
    },
    {
     "data": {
      "application/vnd.jupyter.widget-view+json": {
       "model_id": "12db9bce471e46a8b694da897ac85c87",
       "version_major": 2,
       "version_minor": 0
      },
      "text/plain": [
       "Checkbox(value=False, description='MADDPG Big obstacle + spatial intent + 240000 steps')"
      ]
     },
     "metadata": {},
     "output_type": "display_data"
    },
    {
     "data": {
      "application/vnd.jupyter.widget-view+json": {
       "model_id": "fa2740616bca492e8a32c602d7b0cb5c",
       "version_major": 2,
       "version_minor": 0
      },
      "text/plain": [
       "Output()"
      ]
     },
     "metadata": {},
     "output_type": "display_data"
    },
    {
     "data": {
      "application/vnd.jupyter.widget-view+json": {
       "model_id": "f2f1f19409c341cfb584b172aee8140c",
       "version_major": 2,
       "version_minor": 0
      },
      "text/plain": [
       "Checkbox(value=False, description='MADDPG Big obstacle + spatial intent + 300000 steps')"
      ]
     },
     "metadata": {},
     "output_type": "display_data"
    },
    {
     "data": {
      "application/vnd.jupyter.widget-view+json": {
       "model_id": "eecaa73b7f204c038093708fa2e77407",
       "version_major": 2,
       "version_minor": 0
      },
      "text/plain": [
       "Output()"
      ]
     },
     "metadata": {},
     "output_type": "display_data"
    },
    {
     "data": {
      "application/vnd.jupyter.widget-view+json": {
       "model_id": "1423c87b51954ad68b83b9f80b4c5000",
       "version_major": 2,
       "version_minor": 0
      },
      "text/plain": [
       "Checkbox(value=False, description='MADDPG Big obstacle + spatial intent + 600000 steps')"
      ]
     },
     "metadata": {},
     "output_type": "display_data"
    },
    {
     "data": {
      "application/vnd.jupyter.widget-view+json": {
       "model_id": "7c223c9e4bb14fe6864875e91517067d",
       "version_major": 2,
       "version_minor": 0
      },
      "text/plain": [
       "Output()"
      ]
     },
     "metadata": {},
     "output_type": "display_data"
    },
    {
     "data": {
      "application/vnd.jupyter.widget-view+json": {
       "model_id": "a53f11472656478c835243cd07159ff9",
       "version_major": 2,
       "version_minor": 0
      },
      "text/plain": [
       "Checkbox(value=False, description='MADDPG Big obstacle + no spatial intent + no closest map +  240000 steps')"
      ]
     },
     "metadata": {},
     "output_type": "display_data"
    },
    {
     "data": {
      "application/vnd.jupyter.widget-view+json": {
       "model_id": "046dbed4b84244bd9283c99256d8ccf7",
       "version_major": 2,
       "version_minor": 0
      },
      "text/plain": [
       "Output()"
      ]
     },
     "metadata": {},
     "output_type": "display_data"
    },
    {
     "data": {
      "application/vnd.jupyter.widget-view+json": {
       "model_id": "d6e88984e78c4eaf86b78edac5b3a45d",
       "version_major": 2,
       "version_minor": 0
      },
      "text/plain": [
       "Checkbox(value=False, description='MADDPG Big obstacle + no spatial intent + no closest map +  340000 steps')"
      ]
     },
     "metadata": {},
     "output_type": "display_data"
    },
    {
     "data": {
      "application/vnd.jupyter.widget-view+json": {
       "model_id": "14345eba22fb4ec5b71ceceba7264f56",
       "version_major": 2,
       "version_minor": 0
      },
      "text/plain": [
       "Output()"
      ]
     },
     "metadata": {},
     "output_type": "display_data"
    },
    {
     "data": {
      "application/vnd.jupyter.widget-view+json": {
       "model_id": "e5c07731ddb74309a182641845fed2c7",
       "version_major": 2,
       "version_minor": 0
      },
      "text/plain": [
       "Checkbox(value=False, description='MADDPG Big obstacle + no spatial intent + no closest map +  640000 steps')"
      ]
     },
     "metadata": {},
     "output_type": "display_data"
    },
    {
     "data": {
      "application/vnd.jupyter.widget-view+json": {
       "model_id": "0a06a2247acb4514b1d18f484b13932c",
       "version_major": 2,
       "version_minor": 0
      },
      "text/plain": [
       "Output()"
      ]
     },
     "metadata": {},
     "output_type": "display_data"
    },
    {
     "data": {
      "application/vnd.jupyter.widget-view+json": {
       "model_id": "c4e01f56ccae4c2a9242143ed526b61b",
       "version_major": 2,
       "version_minor": 0
      },
      "text/plain": [
       "Checkbox(value=False, description='MADDPG Big obstacle + no spatial intent + no closest map +  940000 steps')"
      ]
     },
     "metadata": {},
     "output_type": "display_data"
    },
    {
     "data": {
      "application/vnd.jupyter.widget-view+json": {
       "model_id": "7a99463dd58b43a097cc88081f0028f1",
       "version_major": 2,
       "version_minor": 0
      },
      "text/plain": [
       "Output()"
      ]
     },
     "metadata": {},
     "output_type": "display_data"
    },
    {
     "data": {
      "application/vnd.jupyter.widget-view+json": {
       "model_id": "657268b224f948548682e50dd0b6dcab",
       "version_major": 2,
       "version_minor": 0
      },
      "text/plain": [
       "Checkbox(value=False, description='DQN Big obstacle + spatial intent')"
      ]
     },
     "metadata": {},
     "output_type": "display_data"
    },
    {
     "data": {
      "application/vnd.jupyter.widget-view+json": {
       "model_id": "0fe46354868d4232b47687472ec7e18a",
       "version_major": 2,
       "version_minor": 0
      },
      "text/plain": [
       "Output()"
      ]
     },
     "metadata": {},
     "output_type": "display_data"
    },
    {
     "data": {
      "application/vnd.jupyter.widget-view+json": {
       "model_id": "dfcb9d02cab543c2937ca053e8e18835",
       "version_major": 2,
       "version_minor": 0
      },
      "text/plain": [
       "Checkbox(value=False, description='DQN Big obstacle + spatial intent+340000')"
      ]
     },
     "metadata": {},
     "output_type": "display_data"
    },
    {
     "data": {
      "application/vnd.jupyter.widget-view+json": {
       "model_id": "ab1bb4cc15fe4595b3d1b50b2d3b4045",
       "version_major": 2,
       "version_minor": 0
      },
      "text/plain": [
       "Output()"
      ]
     },
     "metadata": {},
     "output_type": "display_data"
    },
    {
     "data": {
      "application/vnd.jupyter.widget-view+json": {
       "model_id": "34a071866b774b3f8235da794980d908",
       "version_major": 2,
       "version_minor": 0
      },
      "text/plain": [
       "Checkbox(value=False, description='DQN Big obstacle + closest cube only ')"
      ]
     },
     "metadata": {},
     "output_type": "display_data"
    },
    {
     "data": {
      "application/vnd.jupyter.widget-view+json": {
       "model_id": "1413791ef6ef42f382521f19120f5c17",
       "version_major": 2,
       "version_minor": 0
      },
      "text/plain": [
       "Output()"
      ]
     },
     "metadata": {},
     "output_type": "display_data"
    },
    {
     "data": {
      "application/vnd.jupyter.widget-view+json": {
       "model_id": "b6eab9d4e42b4c2b9d2b4ab358c57a6a",
       "version_major": 2,
       "version_minor": 0
      },
      "text/plain": [
       "Checkbox(value=False, description='DQN Big obstacle + closest cube only 240000 2')"
      ]
     },
     "metadata": {},
     "output_type": "display_data"
    },
    {
     "data": {
      "application/vnd.jupyter.widget-view+json": {
       "model_id": "3638585132424582b422f619b59243e4",
       "version_major": 2,
       "version_minor": 0
      },
      "text/plain": [
       "Output()"
      ]
     },
     "metadata": {},
     "output_type": "display_data"
    },
    {
     "data": {
      "application/vnd.jupyter.widget-view+json": {
       "model_id": "489ebf8ec5154cb1ad636f14351f538a",
       "version_major": 2,
       "version_minor": 0
      },
      "text/plain": [
       "Checkbox(value=False, description='DQN Big obstacle + closest cube only 340000 2')"
      ]
     },
     "metadata": {},
     "output_type": "display_data"
    },
    {
     "data": {
      "application/vnd.jupyter.widget-view+json": {
       "model_id": "d6ff9fc4be6f47f59c7d5c28b206918e",
       "version_major": 2,
       "version_minor": 0
      },
      "text/plain": [
       "Output()"
      ]
     },
     "metadata": {},
     "output_type": "display_data"
    },
    {
     "data": {
      "application/vnd.jupyter.widget-view+json": {
       "model_id": "a42ccae434d44f4284f0f8778cfc093f",
       "version_major": 2,
       "version_minor": 0
      },
      "text/plain": [
       "Checkbox(value=False, description='DDPG Big obstacle + closest cube only ')"
      ]
     },
     "metadata": {},
     "output_type": "display_data"
    },
    {
     "data": {
      "application/vnd.jupyter.widget-view+json": {
       "model_id": "2222452e94064dcbb2ef8c5f0678d9ef",
       "version_major": 2,
       "version_minor": 0
      },
      "text/plain": [
       "Output()"
      ]
     },
     "metadata": {},
     "output_type": "display_data"
    },
    {
     "data": {
      "application/vnd.jupyter.widget-view+json": {
       "model_id": "13c6ecb334474088b1c5e0ae8774f5f8",
       "version_major": 2,
       "version_minor": 0
      },
      "text/plain": [
       "Checkbox(value=False, description='DDPG Big obstacle + closest cube only + 340000')"
      ]
     },
     "metadata": {},
     "output_type": "display_data"
    },
    {
     "data": {
      "application/vnd.jupyter.widget-view+json": {
       "model_id": "ae2bdea7658740fa9df9867a0d802bc7",
       "version_major": 2,
       "version_minor": 0
      },
      "text/plain": [
       "Output()"
      ]
     },
     "metadata": {},
     "output_type": "display_data"
    },
    {
     "data": {
      "application/vnd.jupyter.widget-view+json": {
       "model_id": "4d29ed4a85e64ebbb15ad1620b570f18",
       "version_major": 2,
       "version_minor": 0
      },
      "text/plain": [
       "Checkbox(value=False, description='DDPG Big obstacle + original ')"
      ]
     },
     "metadata": {},
     "output_type": "display_data"
    },
    {
     "data": {
      "application/vnd.jupyter.widget-view+json": {
       "model_id": "87e5a068c6ba4e009fbece02bef853b9",
       "version_major": 2,
       "version_minor": 0
      },
      "text/plain": [
       "Output()"
      ]
     },
     "metadata": {},
     "output_type": "display_data"
    },
    {
     "data": {
      "application/vnd.jupyter.widget-view+json": {
       "model_id": "01ac4f6693254296a0f48696436b6743",
       "version_major": 2,
       "version_minor": 0
      },
      "text/plain": [
       "Checkbox(value=False, description='DDPG Big obstacle + OU exploration + original')"
      ]
     },
     "metadata": {},
     "output_type": "display_data"
    },
    {
     "data": {
      "application/vnd.jupyter.widget-view+json": {
       "model_id": "3e287b6fc72644528b667d8aff8a8166",
       "version_major": 2,
       "version_minor": 0
      },
      "text/plain": [
       "Output()"
      ]
     },
     "metadata": {},
     "output_type": "display_data"
    }
   ],
   "source": [
    "import ipywidgets as widgets\n",
    "matching_experiment_names = []\n",
    "matching_experiment_names_2 = []\n",
    "dict_t = {}\n",
    "\n",
    "def plot_curves(experiment_names, env_name, fontsize=20):\n",
    "    experiment_names = list(experiment_names)\n",
    "    print(experiment_names)\n",
    "    i = 0 \n",
    "    while(i< len(experiment_names)): \n",
    "\n",
    "        experiment_names[i] = label_to_value[experiment_names[i]]\n",
    "        i+=1\n",
    "    max_simulation_step = 0 \n",
    "    print(len(all_curves[experiment_names[0]][0]))\n",
    "\n",
    "    max_length = max(len(all_curves[experiment_name][0]) for experiment_name in experiment_names)\n",
    "\n",
    "    for experiment_name in experiment_names: \n",
    "\n",
    "        curve = all_curves[experiment_name][0]\n",
    "        all_curves[experiment_name][0] = np.pad(curve, (0, max_length - len(curve)), 'edge')\n",
    "\n",
    "    for experiment_name in experiment_names:\n",
    "        # Plot cutoff\n",
    "        robot_config_str = experiment_name.split('-')[0]\n",
    "        robot_config_str = experiment_name\n",
    "\n",
    "        #best_len = all_cutoffs[robot_config_str][env_name]\n",
    "        #plt.axvline(best_len * step_size, linewidth=1, c='r')\n",
    "\n",
    "        # Plot curve\n",
    "        curves = extend_curves(all_curves[experiment_name])\n",
    "        x = np.arange(0, (len(curves[0]) - 0.5) * step_size, step_size)\n",
    "        y_mean, y_std = np.mean(curves, axis=0), np.std(curves, axis=0)\n",
    "        label = '{} ({})'.format(label_dict[experiment_name], all_results[robot_config_str][experiment_name])\n",
    "        plt.plot(x, y_mean, label=label)\n",
    "        plt.fill_between(x, y_mean - y_std, y_mean + y_std, alpha=0.2)\n",
    "\n",
    "    num_cubes = 10\n",
    "    plt.xlim(0)\n",
    "\n",
    "    plt.ylim(0, num_cubes+1)\n",
    "    plt.xticks(fontsize=fontsize - 2)\n",
    "    plt.yticks(range(0, num_cubes + 1, 2), fontsize=fontsize - 2)\n",
    "    plt.xlabel('Simulation Steps', fontsize=fontsize)\n",
    "    plt.ylabel('Num Objects', fontsize=fontsize)\n",
    "    plt.legend(fontsize=fontsize - 2)\n",
    "    plt.show()\n",
    "for experiment_name in sorted(all_curves):\n",
    "    if \"small_divider\" in experiment_name:\n",
    "        dict_t[label_dict[experiment_name]] = False\n",
    "        matching_experiment_names.append(experiment_name)\n",
    "        matching_experiment_names_2.append(label_dict[experiment_name])\n",
    "        \n",
    "for option in matching_experiment_names_2: \n",
    "    box = widgets.Checkbox(False,description=option)\n",
    "    \n",
    "    out = widgets.Output()\n",
    "    \n",
    "    @out.capture()\n",
    "    def changed(b):\n",
    "        global dict_t \n",
    "        try: \n",
    "            desc = b[\"owner\"].description \n",
    "            val  = b[\"new\"][\"value\"] \n",
    "            dict_t[desc]  = val\n",
    "            k = []\n",
    "            for t in dict_t: \n",
    "                if(dict_t[t]): \n",
    "                    k.append(t)\n",
    "                \n",
    "            plot_curves(k,\"f\")\n",
    "            \n",
    "        except: \n",
    "            pass\n",
    "    box.observe(changed)\n",
    "\n",
    "    display(box)\n",
    "    display(out)"
   ]
  },
  {
   "cell_type": "code",
   "execution_count": null,
   "metadata": {},
   "outputs": [],
   "source": []
  },
  {
   "cell_type": "code",
   "execution_count": null,
   "metadata": {},
   "outputs": [],
   "source": []
  },
  {
   "cell_type": "code",
   "execution_count": null,
   "metadata": {},
   "outputs": [],
   "source": []
  },
  {
   "cell_type": "code",
   "execution_count": null,
   "metadata": {},
   "outputs": [],
   "source": []
  },
  {
   "cell_type": "code",
   "execution_count": null,
   "metadata": {},
   "outputs": [],
   "source": []
  },
  {
   "cell_type": "code",
   "execution_count": 139,
   "metadata": {},
   "outputs": [
    {
     "ename": "NameError",
     "evalue": "name 'p' is not defined",
     "output_type": "error",
     "traceback": [
      "\u001b[0;31m---------------------------------------------------------------------------\u001b[0m",
      "\u001b[0;31mNameError\u001b[0m                                 Traceback (most recent call last)",
      "\u001b[0;32m/var/folders/kw/f0w207852fqgczg9b03r0g54bjr3h8/T/ipykernel_27443/626125819.py\u001b[0m in \u001b[0;36m<module>\u001b[0;34m\u001b[0m\n\u001b[0;32m----> 1\u001b[0;31m \u001b[0mp\u001b[0m\u001b[0;34m\u001b[0m\u001b[0;34m\u001b[0m\u001b[0m\n\u001b[0m",
      "\u001b[0;31mNameError\u001b[0m: name 'p' is not defined"
     ]
    }
   ],
   "source": [
    "p"
   ]
  },
  {
   "cell_type": "code",
   "execution_count": null,
   "metadata": {},
   "outputs": [],
   "source": []
  },
  {
   "cell_type": "code",
   "execution_count": null,
   "metadata": {},
   "outputs": [],
   "source": []
  }
 ],
 "metadata": {
  "kernelspec": {
   "display_name": "Python 3 (ipykernel)",
   "language": "python",
   "name": "python3"
  },
  "language_info": {
   "codemirror_mode": {
    "name": "ipython",
    "version": 3
   },
   "file_extension": ".py",
   "mimetype": "text/x-python",
   "name": "python",
   "nbconvert_exporter": "python",
   "pygments_lexer": "ipython3",
   "version": "3.7.10"
  }
 },
 "nbformat": 4,
 "nbformat_minor": 2
}
